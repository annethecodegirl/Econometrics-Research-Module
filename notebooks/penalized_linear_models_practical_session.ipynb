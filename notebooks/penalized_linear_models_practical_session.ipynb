{
  "cells": [
    {
      "cell_type": "markdown",
      "id": "233479fa",
      "metadata": {
        "lines_to_next_cell": 0,
        "id": "233479fa"
      },
      "source": [
        "\n",
        "======================================================================\n",
        "Common pitfalls in the interpretation of coefficients of linear models\n",
        "======================================================================\n",
        "\n",
        "In linear models, the target value is modeled as a linear combination of the\n",
        "features (see the :ref:`linear_model` User Guide section for a description of a\n",
        "set of linear models available in scikit-learn). Coefficients in multiple linear\n",
        "models represent the relationship between the given feature, :math:`X_i` and the\n",
        "target, :math:`y`, assuming that all the other features remain constant\n",
        "(`conditional dependence\n",
        "<https://en.wikipedia.org/wiki/Conditional_dependence>`_). This is different\n",
        "from plotting :math:`X_i` versus :math:`y` and fitting a linear relationship: in\n",
        "that case all possible values of the other features are taken into account in\n",
        "the estimation (marginal dependence).\n",
        "\n",
        "This example will provide some hints in interpreting coefficient in linear\n",
        "models, pointing at problems that arise when either the linear model is not\n",
        "appropriate to describe the dataset, or when features are correlated.\n",
        "\n",
        ".. note::\n",
        "\n",
        "    Keep in mind that the features :math:`X` and the outcome :math:`y` are in\n",
        "    general the result of a data generating process that is unknown to us.\n",
        "    Machine learning models are trained to approximate the unobserved\n",
        "    mathematical function that links :math:`X` to :math:`y` from sample data. As\n",
        "    a result, any interpretation made about a model may not necessarily\n",
        "    generalize to the true data generating process. This is especially true when\n",
        "    the model is of bad quality or when the sample data is not representative of\n",
        "    the population.\n",
        "\n",
        "We will use data from the `\"Current Population Survey\"\n",
        "<https://www.openml.org/d/534>`_ from 1985 to predict wage as a function of\n",
        "various features such as experience, age, or education.\n",
        "\n",
        "Authors: The scikit-learn developers\n",
        "SPDX-License-Identifier: BSD-3-Clause"
      ]
    },
    {
      "cell_type": "code",
      "execution_count": 6,
      "id": "063a2d96",
      "metadata": {
        "id": "063a2d96"
      },
      "outputs": [],
      "source": [
        "import matplotlib.pyplot as plt\n",
        "import numpy as np\n",
        "import pandas as pd\n",
        "import scipy as sp\n",
        "import seaborn as sns"
      ]
    },
    {
      "cell_type": "markdown",
      "id": "491d586e",
      "metadata": {
        "lines_to_next_cell": 0,
        "id": "491d586e"
      },
      "source": [
        "The dataset: wages\n",
        "------------------\n",
        "\n",
        "We fetch the data from `OpenML <http://openml.org/>`_.\n",
        "Note that setting the parameter `as_frame` to True will retrieve the data\n",
        "as a pandas dataframe."
      ]
    },
    {
      "cell_type": "code",
      "execution_count": 7,
      "id": "58f12030",
      "metadata": {
        "id": "58f12030"
      },
      "outputs": [],
      "source": [
        "from sklearn.datasets import fetch_openml\n",
        "\n",
        "survey = fetch_openml(data_id=534, as_frame=True)"
      ]
    },
    {
      "cell_type": "markdown",
      "id": "dd4a322f",
      "metadata": {
        "lines_to_next_cell": 0,
        "id": "dd4a322f"
      },
      "source": [
        "Then, we identify features `X` and targets `y`: the column WAGE is our\n",
        "target variable (i.e., the variable which we want to predict)."
      ]
    },
    {
      "cell_type": "code",
      "execution_count": 3,
      "id": "dd8a22c4",
      "metadata": {
        "id": "dd8a22c4",
        "outputId": "8f086502-018d-43e6-85d4-be732d485889",
        "colab": {
          "base_uri": "https://localhost:8080/",
          "height": 414
        }
      },
      "outputs": [
        {
          "output_type": "execute_result",
          "data": {
            "text/plain": [
              "         EDUCATION SOUTH   SEX  EXPERIENCE       UNION         AGE   RACE  \\\n",
              "count   534.000000   534   534  534.000000         534  534.000000    534   \n",
              "unique         NaN     2     2         NaN           2         NaN      3   \n",
              "top            NaN    no  male         NaN  not_member         NaN  White   \n",
              "freq           NaN   378   289         NaN         438         NaN    440   \n",
              "mean     13.018727   NaN   NaN   17.822097         NaN   36.833333    NaN   \n",
              "std       2.615373   NaN   NaN   12.379710         NaN   11.726573    NaN   \n",
              "min       2.000000   NaN   NaN    0.000000         NaN   18.000000    NaN   \n",
              "25%      12.000000   NaN   NaN    8.000000         NaN   28.000000    NaN   \n",
              "50%      12.000000   NaN   NaN   15.000000         NaN   35.000000    NaN   \n",
              "75%      15.000000   NaN   NaN   26.000000         NaN   44.000000    NaN   \n",
              "max      18.000000   NaN   NaN   55.000000         NaN   64.000000    NaN   \n",
              "\n",
              "       OCCUPATION SECTOR     MARR  \n",
              "count         534    534      534  \n",
              "unique          6      3        2  \n",
              "top         Other  Other  Married  \n",
              "freq          156    411      350  \n",
              "mean          NaN    NaN      NaN  \n",
              "std           NaN    NaN      NaN  \n",
              "min           NaN    NaN      NaN  \n",
              "25%           NaN    NaN      NaN  \n",
              "50%           NaN    NaN      NaN  \n",
              "75%           NaN    NaN      NaN  \n",
              "max           NaN    NaN      NaN  "
            ],
            "text/html": [
              "\n",
              "  <div id=\"df-59ec28e6-ffa4-42f4-bd46-a885541721a7\" class=\"colab-df-container\">\n",
              "    <div>\n",
              "<style scoped>\n",
              "    .dataframe tbody tr th:only-of-type {\n",
              "        vertical-align: middle;\n",
              "    }\n",
              "\n",
              "    .dataframe tbody tr th {\n",
              "        vertical-align: top;\n",
              "    }\n",
              "\n",
              "    .dataframe thead th {\n",
              "        text-align: right;\n",
              "    }\n",
              "</style>\n",
              "<table border=\"1\" class=\"dataframe\">\n",
              "  <thead>\n",
              "    <tr style=\"text-align: right;\">\n",
              "      <th></th>\n",
              "      <th>EDUCATION</th>\n",
              "      <th>SOUTH</th>\n",
              "      <th>SEX</th>\n",
              "      <th>EXPERIENCE</th>\n",
              "      <th>UNION</th>\n",
              "      <th>AGE</th>\n",
              "      <th>RACE</th>\n",
              "      <th>OCCUPATION</th>\n",
              "      <th>SECTOR</th>\n",
              "      <th>MARR</th>\n",
              "    </tr>\n",
              "  </thead>\n",
              "  <tbody>\n",
              "    <tr>\n",
              "      <th>count</th>\n",
              "      <td>534.000000</td>\n",
              "      <td>534</td>\n",
              "      <td>534</td>\n",
              "      <td>534.000000</td>\n",
              "      <td>534</td>\n",
              "      <td>534.000000</td>\n",
              "      <td>534</td>\n",
              "      <td>534</td>\n",
              "      <td>534</td>\n",
              "      <td>534</td>\n",
              "    </tr>\n",
              "    <tr>\n",
              "      <th>unique</th>\n",
              "      <td>NaN</td>\n",
              "      <td>2</td>\n",
              "      <td>2</td>\n",
              "      <td>NaN</td>\n",
              "      <td>2</td>\n",
              "      <td>NaN</td>\n",
              "      <td>3</td>\n",
              "      <td>6</td>\n",
              "      <td>3</td>\n",
              "      <td>2</td>\n",
              "    </tr>\n",
              "    <tr>\n",
              "      <th>top</th>\n",
              "      <td>NaN</td>\n",
              "      <td>no</td>\n",
              "      <td>male</td>\n",
              "      <td>NaN</td>\n",
              "      <td>not_member</td>\n",
              "      <td>NaN</td>\n",
              "      <td>White</td>\n",
              "      <td>Other</td>\n",
              "      <td>Other</td>\n",
              "      <td>Married</td>\n",
              "    </tr>\n",
              "    <tr>\n",
              "      <th>freq</th>\n",
              "      <td>NaN</td>\n",
              "      <td>378</td>\n",
              "      <td>289</td>\n",
              "      <td>NaN</td>\n",
              "      <td>438</td>\n",
              "      <td>NaN</td>\n",
              "      <td>440</td>\n",
              "      <td>156</td>\n",
              "      <td>411</td>\n",
              "      <td>350</td>\n",
              "    </tr>\n",
              "    <tr>\n",
              "      <th>mean</th>\n",
              "      <td>13.018727</td>\n",
              "      <td>NaN</td>\n",
              "      <td>NaN</td>\n",
              "      <td>17.822097</td>\n",
              "      <td>NaN</td>\n",
              "      <td>36.833333</td>\n",
              "      <td>NaN</td>\n",
              "      <td>NaN</td>\n",
              "      <td>NaN</td>\n",
              "      <td>NaN</td>\n",
              "    </tr>\n",
              "    <tr>\n",
              "      <th>std</th>\n",
              "      <td>2.615373</td>\n",
              "      <td>NaN</td>\n",
              "      <td>NaN</td>\n",
              "      <td>12.379710</td>\n",
              "      <td>NaN</td>\n",
              "      <td>11.726573</td>\n",
              "      <td>NaN</td>\n",
              "      <td>NaN</td>\n",
              "      <td>NaN</td>\n",
              "      <td>NaN</td>\n",
              "    </tr>\n",
              "    <tr>\n",
              "      <th>min</th>\n",
              "      <td>2.000000</td>\n",
              "      <td>NaN</td>\n",
              "      <td>NaN</td>\n",
              "      <td>0.000000</td>\n",
              "      <td>NaN</td>\n",
              "      <td>18.000000</td>\n",
              "      <td>NaN</td>\n",
              "      <td>NaN</td>\n",
              "      <td>NaN</td>\n",
              "      <td>NaN</td>\n",
              "    </tr>\n",
              "    <tr>\n",
              "      <th>25%</th>\n",
              "      <td>12.000000</td>\n",
              "      <td>NaN</td>\n",
              "      <td>NaN</td>\n",
              "      <td>8.000000</td>\n",
              "      <td>NaN</td>\n",
              "      <td>28.000000</td>\n",
              "      <td>NaN</td>\n",
              "      <td>NaN</td>\n",
              "      <td>NaN</td>\n",
              "      <td>NaN</td>\n",
              "    </tr>\n",
              "    <tr>\n",
              "      <th>50%</th>\n",
              "      <td>12.000000</td>\n",
              "      <td>NaN</td>\n",
              "      <td>NaN</td>\n",
              "      <td>15.000000</td>\n",
              "      <td>NaN</td>\n",
              "      <td>35.000000</td>\n",
              "      <td>NaN</td>\n",
              "      <td>NaN</td>\n",
              "      <td>NaN</td>\n",
              "      <td>NaN</td>\n",
              "    </tr>\n",
              "    <tr>\n",
              "      <th>75%</th>\n",
              "      <td>15.000000</td>\n",
              "      <td>NaN</td>\n",
              "      <td>NaN</td>\n",
              "      <td>26.000000</td>\n",
              "      <td>NaN</td>\n",
              "      <td>44.000000</td>\n",
              "      <td>NaN</td>\n",
              "      <td>NaN</td>\n",
              "      <td>NaN</td>\n",
              "      <td>NaN</td>\n",
              "    </tr>\n",
              "    <tr>\n",
              "      <th>max</th>\n",
              "      <td>18.000000</td>\n",
              "      <td>NaN</td>\n",
              "      <td>NaN</td>\n",
              "      <td>55.000000</td>\n",
              "      <td>NaN</td>\n",
              "      <td>64.000000</td>\n",
              "      <td>NaN</td>\n",
              "      <td>NaN</td>\n",
              "      <td>NaN</td>\n",
              "      <td>NaN</td>\n",
              "    </tr>\n",
              "  </tbody>\n",
              "</table>\n",
              "</div>\n",
              "    <div class=\"colab-df-buttons\">\n",
              "\n",
              "  <div class=\"colab-df-container\">\n",
              "    <button class=\"colab-df-convert\" onclick=\"convertToInteractive('df-59ec28e6-ffa4-42f4-bd46-a885541721a7')\"\n",
              "            title=\"Convert this dataframe to an interactive table.\"\n",
              "            style=\"display:none;\">\n",
              "\n",
              "  <svg xmlns=\"http://www.w3.org/2000/svg\" height=\"24px\" viewBox=\"0 -960 960 960\">\n",
              "    <path d=\"M120-120v-720h720v720H120Zm60-500h600v-160H180v160Zm220 220h160v-160H400v160Zm0 220h160v-160H400v160ZM180-400h160v-160H180v160Zm440 0h160v-160H620v160ZM180-180h160v-160H180v160Zm440 0h160v-160H620v160Z\"/>\n",
              "  </svg>\n",
              "    </button>\n",
              "\n",
              "  <style>\n",
              "    .colab-df-container {\n",
              "      display:flex;\n",
              "      gap: 12px;\n",
              "    }\n",
              "\n",
              "    .colab-df-convert {\n",
              "      background-color: #E8F0FE;\n",
              "      border: none;\n",
              "      border-radius: 50%;\n",
              "      cursor: pointer;\n",
              "      display: none;\n",
              "      fill: #1967D2;\n",
              "      height: 32px;\n",
              "      padding: 0 0 0 0;\n",
              "      width: 32px;\n",
              "    }\n",
              "\n",
              "    .colab-df-convert:hover {\n",
              "      background-color: #E2EBFA;\n",
              "      box-shadow: 0px 1px 2px rgba(60, 64, 67, 0.3), 0px 1px 3px 1px rgba(60, 64, 67, 0.15);\n",
              "      fill: #174EA6;\n",
              "    }\n",
              "\n",
              "    .colab-df-buttons div {\n",
              "      margin-bottom: 4px;\n",
              "    }\n",
              "\n",
              "    [theme=dark] .colab-df-convert {\n",
              "      background-color: #3B4455;\n",
              "      fill: #D2E3FC;\n",
              "    }\n",
              "\n",
              "    [theme=dark] .colab-df-convert:hover {\n",
              "      background-color: #434B5C;\n",
              "      box-shadow: 0px 1px 3px 1px rgba(0, 0, 0, 0.15);\n",
              "      filter: drop-shadow(0px 1px 2px rgba(0, 0, 0, 0.3));\n",
              "      fill: #FFFFFF;\n",
              "    }\n",
              "  </style>\n",
              "\n",
              "    <script>\n",
              "      const buttonEl =\n",
              "        document.querySelector('#df-59ec28e6-ffa4-42f4-bd46-a885541721a7 button.colab-df-convert');\n",
              "      buttonEl.style.display =\n",
              "        google.colab.kernel.accessAllowed ? 'block' : 'none';\n",
              "\n",
              "      async function convertToInteractive(key) {\n",
              "        const element = document.querySelector('#df-59ec28e6-ffa4-42f4-bd46-a885541721a7');\n",
              "        const dataTable =\n",
              "          await google.colab.kernel.invokeFunction('convertToInteractive',\n",
              "                                                    [key], {});\n",
              "        if (!dataTable) return;\n",
              "\n",
              "        const docLinkHtml = 'Like what you see? Visit the ' +\n",
              "          '<a target=\"_blank\" href=https://colab.research.google.com/notebooks/data_table.ipynb>data table notebook</a>'\n",
              "          + ' to learn more about interactive tables.';\n",
              "        element.innerHTML = '';\n",
              "        dataTable['output_type'] = 'display_data';\n",
              "        await google.colab.output.renderOutput(dataTable, element);\n",
              "        const docLink = document.createElement('div');\n",
              "        docLink.innerHTML = docLinkHtml;\n",
              "        element.appendChild(docLink);\n",
              "      }\n",
              "    </script>\n",
              "  </div>\n",
              "\n",
              "\n",
              "<div id=\"df-d7a25c22-7b43-4897-bb6a-7129d5e2a37d\">\n",
              "  <button class=\"colab-df-quickchart\" onclick=\"quickchart('df-d7a25c22-7b43-4897-bb6a-7129d5e2a37d')\"\n",
              "            title=\"Suggest charts\"\n",
              "            style=\"display:none;\">\n",
              "\n",
              "<svg xmlns=\"http://www.w3.org/2000/svg\" height=\"24px\"viewBox=\"0 0 24 24\"\n",
              "     width=\"24px\">\n",
              "    <g>\n",
              "        <path d=\"M19 3H5c-1.1 0-2 .9-2 2v14c0 1.1.9 2 2 2h14c1.1 0 2-.9 2-2V5c0-1.1-.9-2-2-2zM9 17H7v-7h2v7zm4 0h-2V7h2v10zm4 0h-2v-4h2v4z\"/>\n",
              "    </g>\n",
              "</svg>\n",
              "  </button>\n",
              "\n",
              "<style>\n",
              "  .colab-df-quickchart {\n",
              "      --bg-color: #E8F0FE;\n",
              "      --fill-color: #1967D2;\n",
              "      --hover-bg-color: #E2EBFA;\n",
              "      --hover-fill-color: #174EA6;\n",
              "      --disabled-fill-color: #AAA;\n",
              "      --disabled-bg-color: #DDD;\n",
              "  }\n",
              "\n",
              "  [theme=dark] .colab-df-quickchart {\n",
              "      --bg-color: #3B4455;\n",
              "      --fill-color: #D2E3FC;\n",
              "      --hover-bg-color: #434B5C;\n",
              "      --hover-fill-color: #FFFFFF;\n",
              "      --disabled-bg-color: #3B4455;\n",
              "      --disabled-fill-color: #666;\n",
              "  }\n",
              "\n",
              "  .colab-df-quickchart {\n",
              "    background-color: var(--bg-color);\n",
              "    border: none;\n",
              "    border-radius: 50%;\n",
              "    cursor: pointer;\n",
              "    display: none;\n",
              "    fill: var(--fill-color);\n",
              "    height: 32px;\n",
              "    padding: 0;\n",
              "    width: 32px;\n",
              "  }\n",
              "\n",
              "  .colab-df-quickchart:hover {\n",
              "    background-color: var(--hover-bg-color);\n",
              "    box-shadow: 0 1px 2px rgba(60, 64, 67, 0.3), 0 1px 3px 1px rgba(60, 64, 67, 0.15);\n",
              "    fill: var(--button-hover-fill-color);\n",
              "  }\n",
              "\n",
              "  .colab-df-quickchart-complete:disabled,\n",
              "  .colab-df-quickchart-complete:disabled:hover {\n",
              "    background-color: var(--disabled-bg-color);\n",
              "    fill: var(--disabled-fill-color);\n",
              "    box-shadow: none;\n",
              "  }\n",
              "\n",
              "  .colab-df-spinner {\n",
              "    border: 2px solid var(--fill-color);\n",
              "    border-color: transparent;\n",
              "    border-bottom-color: var(--fill-color);\n",
              "    animation:\n",
              "      spin 1s steps(1) infinite;\n",
              "  }\n",
              "\n",
              "  @keyframes spin {\n",
              "    0% {\n",
              "      border-color: transparent;\n",
              "      border-bottom-color: var(--fill-color);\n",
              "      border-left-color: var(--fill-color);\n",
              "    }\n",
              "    20% {\n",
              "      border-color: transparent;\n",
              "      border-left-color: var(--fill-color);\n",
              "      border-top-color: var(--fill-color);\n",
              "    }\n",
              "    30% {\n",
              "      border-color: transparent;\n",
              "      border-left-color: var(--fill-color);\n",
              "      border-top-color: var(--fill-color);\n",
              "      border-right-color: var(--fill-color);\n",
              "    }\n",
              "    40% {\n",
              "      border-color: transparent;\n",
              "      border-right-color: var(--fill-color);\n",
              "      border-top-color: var(--fill-color);\n",
              "    }\n",
              "    60% {\n",
              "      border-color: transparent;\n",
              "      border-right-color: var(--fill-color);\n",
              "    }\n",
              "    80% {\n",
              "      border-color: transparent;\n",
              "      border-right-color: var(--fill-color);\n",
              "      border-bottom-color: var(--fill-color);\n",
              "    }\n",
              "    90% {\n",
              "      border-color: transparent;\n",
              "      border-bottom-color: var(--fill-color);\n",
              "    }\n",
              "  }\n",
              "</style>\n",
              "\n",
              "  <script>\n",
              "    async function quickchart(key) {\n",
              "      const quickchartButtonEl =\n",
              "        document.querySelector('#' + key + ' button');\n",
              "      quickchartButtonEl.disabled = true;  // To prevent multiple clicks.\n",
              "      quickchartButtonEl.classList.add('colab-df-spinner');\n",
              "      try {\n",
              "        const charts = await google.colab.kernel.invokeFunction(\n",
              "            'suggestCharts', [key], {});\n",
              "      } catch (error) {\n",
              "        console.error('Error during call to suggestCharts:', error);\n",
              "      }\n",
              "      quickchartButtonEl.classList.remove('colab-df-spinner');\n",
              "      quickchartButtonEl.classList.add('colab-df-quickchart-complete');\n",
              "    }\n",
              "    (() => {\n",
              "      let quickchartButtonEl =\n",
              "        document.querySelector('#df-d7a25c22-7b43-4897-bb6a-7129d5e2a37d button');\n",
              "      quickchartButtonEl.style.display =\n",
              "        google.colab.kernel.accessAllowed ? 'block' : 'none';\n",
              "    })();\n",
              "  </script>\n",
              "</div>\n",
              "\n",
              "    </div>\n",
              "  </div>\n"
            ],
            "application/vnd.google.colaboratory.intrinsic+json": {
              "type": "dataframe",
              "summary": "{\n  \"name\": \"X\",\n  \"rows\": 11,\n  \"fields\": [\n    {\n      \"column\": \"EDUCATION\",\n      \"properties\": {\n        \"dtype\": \"number\",\n        \"std\": 185.1134378368229,\n        \"min\": 2.0,\n        \"max\": 534.0,\n        \"num_unique_values\": 7,\n        \"samples\": [\n          534.0,\n          13.0187265917603,\n          15.0\n        ],\n        \"semantic_type\": \"\",\n        \"description\": \"\"\n      }\n    },\n    {\n      \"column\": \"SOUTH\",\n      \"properties\": {\n        \"dtype\": \"category\",\n        \"num_unique_values\": 4,\n        \"samples\": [\n          2,\n          \"378\",\n          \"534\"\n        ],\n        \"semantic_type\": \"\",\n        \"description\": \"\"\n      }\n    },\n    {\n      \"column\": \"SEX\",\n      \"properties\": {\n        \"dtype\": \"category\",\n        \"num_unique_values\": 4,\n        \"samples\": [\n          2,\n          \"289\",\n          \"534\"\n        ],\n        \"semantic_type\": \"\",\n        \"description\": \"\"\n      }\n    },\n    {\n      \"column\": \"EXPERIENCE\",\n      \"properties\": {\n        \"dtype\": \"number\",\n        \"std\": 182.7586923628279,\n        \"min\": 0.0,\n        \"max\": 534.0,\n        \"num_unique_values\": 8,\n        \"samples\": [\n          17.822097378277153,\n          15.0,\n          534.0\n        ],\n        \"semantic_type\": \"\",\n        \"description\": \"\"\n      }\n    },\n    {\n      \"column\": \"UNION\",\n      \"properties\": {\n        \"dtype\": \"category\",\n        \"num_unique_values\": 4,\n        \"samples\": [\n          2,\n          \"438\",\n          \"534\"\n        ],\n        \"semantic_type\": \"\",\n        \"description\": \"\"\n      }\n    },\n    {\n      \"column\": \"AGE\",\n      \"properties\": {\n        \"dtype\": \"number\",\n        \"std\": 177.52348773095605,\n        \"min\": 11.726572722555632,\n        \"max\": 534.0,\n        \"num_unique_values\": 8,\n        \"samples\": [\n          36.833333333333336,\n          35.0,\n          534.0\n        ],\n        \"semantic_type\": \"\",\n        \"description\": \"\"\n      }\n    },\n    {\n      \"column\": \"RACE\",\n      \"properties\": {\n        \"dtype\": \"category\",\n        \"num_unique_values\": 4,\n        \"samples\": [\n          3,\n          \"440\",\n          \"534\"\n        ],\n        \"semantic_type\": \"\",\n        \"description\": \"\"\n      }\n    },\n    {\n      \"column\": \"OCCUPATION\",\n      \"properties\": {\n        \"dtype\": \"category\",\n        \"num_unique_values\": 4,\n        \"samples\": [\n          6,\n          \"156\",\n          \"534\"\n        ],\n        \"semantic_type\": \"\",\n        \"description\": \"\"\n      }\n    },\n    {\n      \"column\": \"SECTOR\",\n      \"properties\": {\n        \"dtype\": \"category\",\n        \"num_unique_values\": 4,\n        \"samples\": [\n          3,\n          \"411\",\n          \"534\"\n        ],\n        \"semantic_type\": \"\",\n        \"description\": \"\"\n      }\n    },\n    {\n      \"column\": \"MARR\",\n      \"properties\": {\n        \"dtype\": \"category\",\n        \"num_unique_values\": 4,\n        \"samples\": [\n          2,\n          \"350\",\n          \"534\"\n        ],\n        \"semantic_type\": \"\",\n        \"description\": \"\"\n      }\n    }\n  ]\n}"
            }
          },
          "metadata": {},
          "execution_count": 3
        }
      ],
      "source": [
        "X = survey.data[survey.feature_names]\n",
        "X.describe(include=\"all\")"
      ]
    },
    {
      "cell_type": "markdown",
      "id": "a87c5964",
      "metadata": {
        "lines_to_next_cell": 0,
        "id": "a87c5964"
      },
      "source": [
        "Note that the dataset contains categorical and numerical variables.\n",
        "We will need to take this into account when preprocessing the dataset\n",
        "thereafter."
      ]
    },
    {
      "cell_type": "code",
      "execution_count": 9,
      "id": "8fa5dc9d",
      "metadata": {
        "id": "8fa5dc9d",
        "outputId": "22a21f42-116a-4a29-a1f9-07839a237338",
        "colab": {
          "base_uri": "https://localhost:8080/",
          "height": 226
        }
      },
      "outputs": [
        {
          "output_type": "execute_result",
          "data": {
            "text/plain": [
              "   EDUCATION SOUTH     SEX  EXPERIENCE       UNION  AGE      RACE OCCUPATION  \\\n",
              "0          8    no  female          21  not_member   35  Hispanic      Other   \n",
              "1          9    no  female          42  not_member   57     White      Other   \n",
              "2         12    no    male           1  not_member   19     White      Other   \n",
              "3         12    no    male           4  not_member   22     White      Other   \n",
              "4         12    no    male          17  not_member   35     White      Other   \n",
              "\n",
              "          SECTOR       MARR  \n",
              "0  Manufacturing    Married  \n",
              "1  Manufacturing    Married  \n",
              "2  Manufacturing  Unmarried  \n",
              "3          Other  Unmarried  \n",
              "4          Other    Married  "
            ],
            "text/html": [
              "\n",
              "  <div id=\"df-dc960a6a-00a9-4729-834d-0a247cfade67\" class=\"colab-df-container\">\n",
              "    <div>\n",
              "<style scoped>\n",
              "    .dataframe tbody tr th:only-of-type {\n",
              "        vertical-align: middle;\n",
              "    }\n",
              "\n",
              "    .dataframe tbody tr th {\n",
              "        vertical-align: top;\n",
              "    }\n",
              "\n",
              "    .dataframe thead th {\n",
              "        text-align: right;\n",
              "    }\n",
              "</style>\n",
              "<table border=\"1\" class=\"dataframe\">\n",
              "  <thead>\n",
              "    <tr style=\"text-align: right;\">\n",
              "      <th></th>\n",
              "      <th>EDUCATION</th>\n",
              "      <th>SOUTH</th>\n",
              "      <th>SEX</th>\n",
              "      <th>EXPERIENCE</th>\n",
              "      <th>UNION</th>\n",
              "      <th>AGE</th>\n",
              "      <th>RACE</th>\n",
              "      <th>OCCUPATION</th>\n",
              "      <th>SECTOR</th>\n",
              "      <th>MARR</th>\n",
              "    </tr>\n",
              "  </thead>\n",
              "  <tbody>\n",
              "    <tr>\n",
              "      <th>0</th>\n",
              "      <td>8</td>\n",
              "      <td>no</td>\n",
              "      <td>female</td>\n",
              "      <td>21</td>\n",
              "      <td>not_member</td>\n",
              "      <td>35</td>\n",
              "      <td>Hispanic</td>\n",
              "      <td>Other</td>\n",
              "      <td>Manufacturing</td>\n",
              "      <td>Married</td>\n",
              "    </tr>\n",
              "    <tr>\n",
              "      <th>1</th>\n",
              "      <td>9</td>\n",
              "      <td>no</td>\n",
              "      <td>female</td>\n",
              "      <td>42</td>\n",
              "      <td>not_member</td>\n",
              "      <td>57</td>\n",
              "      <td>White</td>\n",
              "      <td>Other</td>\n",
              "      <td>Manufacturing</td>\n",
              "      <td>Married</td>\n",
              "    </tr>\n",
              "    <tr>\n",
              "      <th>2</th>\n",
              "      <td>12</td>\n",
              "      <td>no</td>\n",
              "      <td>male</td>\n",
              "      <td>1</td>\n",
              "      <td>not_member</td>\n",
              "      <td>19</td>\n",
              "      <td>White</td>\n",
              "      <td>Other</td>\n",
              "      <td>Manufacturing</td>\n",
              "      <td>Unmarried</td>\n",
              "    </tr>\n",
              "    <tr>\n",
              "      <th>3</th>\n",
              "      <td>12</td>\n",
              "      <td>no</td>\n",
              "      <td>male</td>\n",
              "      <td>4</td>\n",
              "      <td>not_member</td>\n",
              "      <td>22</td>\n",
              "      <td>White</td>\n",
              "      <td>Other</td>\n",
              "      <td>Other</td>\n",
              "      <td>Unmarried</td>\n",
              "    </tr>\n",
              "    <tr>\n",
              "      <th>4</th>\n",
              "      <td>12</td>\n",
              "      <td>no</td>\n",
              "      <td>male</td>\n",
              "      <td>17</td>\n",
              "      <td>not_member</td>\n",
              "      <td>35</td>\n",
              "      <td>White</td>\n",
              "      <td>Other</td>\n",
              "      <td>Other</td>\n",
              "      <td>Married</td>\n",
              "    </tr>\n",
              "  </tbody>\n",
              "</table>\n",
              "</div>\n",
              "    <div class=\"colab-df-buttons\">\n",
              "\n",
              "  <div class=\"colab-df-container\">\n",
              "    <button class=\"colab-df-convert\" onclick=\"convertToInteractive('df-dc960a6a-00a9-4729-834d-0a247cfade67')\"\n",
              "            title=\"Convert this dataframe to an interactive table.\"\n",
              "            style=\"display:none;\">\n",
              "\n",
              "  <svg xmlns=\"http://www.w3.org/2000/svg\" height=\"24px\" viewBox=\"0 -960 960 960\">\n",
              "    <path d=\"M120-120v-720h720v720H120Zm60-500h600v-160H180v160Zm220 220h160v-160H400v160Zm0 220h160v-160H400v160ZM180-400h160v-160H180v160Zm440 0h160v-160H620v160ZM180-180h160v-160H180v160Zm440 0h160v-160H620v160Z\"/>\n",
              "  </svg>\n",
              "    </button>\n",
              "\n",
              "  <style>\n",
              "    .colab-df-container {\n",
              "      display:flex;\n",
              "      gap: 12px;\n",
              "    }\n",
              "\n",
              "    .colab-df-convert {\n",
              "      background-color: #E8F0FE;\n",
              "      border: none;\n",
              "      border-radius: 50%;\n",
              "      cursor: pointer;\n",
              "      display: none;\n",
              "      fill: #1967D2;\n",
              "      height: 32px;\n",
              "      padding: 0 0 0 0;\n",
              "      width: 32px;\n",
              "    }\n",
              "\n",
              "    .colab-df-convert:hover {\n",
              "      background-color: #E2EBFA;\n",
              "      box-shadow: 0px 1px 2px rgba(60, 64, 67, 0.3), 0px 1px 3px 1px rgba(60, 64, 67, 0.15);\n",
              "      fill: #174EA6;\n",
              "    }\n",
              "\n",
              "    .colab-df-buttons div {\n",
              "      margin-bottom: 4px;\n",
              "    }\n",
              "\n",
              "    [theme=dark] .colab-df-convert {\n",
              "      background-color: #3B4455;\n",
              "      fill: #D2E3FC;\n",
              "    }\n",
              "\n",
              "    [theme=dark] .colab-df-convert:hover {\n",
              "      background-color: #434B5C;\n",
              "      box-shadow: 0px 1px 3px 1px rgba(0, 0, 0, 0.15);\n",
              "      filter: drop-shadow(0px 1px 2px rgba(0, 0, 0, 0.3));\n",
              "      fill: #FFFFFF;\n",
              "    }\n",
              "  </style>\n",
              "\n",
              "    <script>\n",
              "      const buttonEl =\n",
              "        document.querySelector('#df-dc960a6a-00a9-4729-834d-0a247cfade67 button.colab-df-convert');\n",
              "      buttonEl.style.display =\n",
              "        google.colab.kernel.accessAllowed ? 'block' : 'none';\n",
              "\n",
              "      async function convertToInteractive(key) {\n",
              "        const element = document.querySelector('#df-dc960a6a-00a9-4729-834d-0a247cfade67');\n",
              "        const dataTable =\n",
              "          await google.colab.kernel.invokeFunction('convertToInteractive',\n",
              "                                                    [key], {});\n",
              "        if (!dataTable) return;\n",
              "\n",
              "        const docLinkHtml = 'Like what you see? Visit the ' +\n",
              "          '<a target=\"_blank\" href=https://colab.research.google.com/notebooks/data_table.ipynb>data table notebook</a>'\n",
              "          + ' to learn more about interactive tables.';\n",
              "        element.innerHTML = '';\n",
              "        dataTable['output_type'] = 'display_data';\n",
              "        await google.colab.output.renderOutput(dataTable, element);\n",
              "        const docLink = document.createElement('div');\n",
              "        docLink.innerHTML = docLinkHtml;\n",
              "        element.appendChild(docLink);\n",
              "      }\n",
              "    </script>\n",
              "  </div>\n",
              "\n",
              "\n",
              "<div id=\"df-271a23e7-283d-4b91-9de4-910992f1e089\">\n",
              "  <button class=\"colab-df-quickchart\" onclick=\"quickchart('df-271a23e7-283d-4b91-9de4-910992f1e089')\"\n",
              "            title=\"Suggest charts\"\n",
              "            style=\"display:none;\">\n",
              "\n",
              "<svg xmlns=\"http://www.w3.org/2000/svg\" height=\"24px\"viewBox=\"0 0 24 24\"\n",
              "     width=\"24px\">\n",
              "    <g>\n",
              "        <path d=\"M19 3H5c-1.1 0-2 .9-2 2v14c0 1.1.9 2 2 2h14c1.1 0 2-.9 2-2V5c0-1.1-.9-2-2-2zM9 17H7v-7h2v7zm4 0h-2V7h2v10zm4 0h-2v-4h2v4z\"/>\n",
              "    </g>\n",
              "</svg>\n",
              "  </button>\n",
              "\n",
              "<style>\n",
              "  .colab-df-quickchart {\n",
              "      --bg-color: #E8F0FE;\n",
              "      --fill-color: #1967D2;\n",
              "      --hover-bg-color: #E2EBFA;\n",
              "      --hover-fill-color: #174EA6;\n",
              "      --disabled-fill-color: #AAA;\n",
              "      --disabled-bg-color: #DDD;\n",
              "  }\n",
              "\n",
              "  [theme=dark] .colab-df-quickchart {\n",
              "      --bg-color: #3B4455;\n",
              "      --fill-color: #D2E3FC;\n",
              "      --hover-bg-color: #434B5C;\n",
              "      --hover-fill-color: #FFFFFF;\n",
              "      --disabled-bg-color: #3B4455;\n",
              "      --disabled-fill-color: #666;\n",
              "  }\n",
              "\n",
              "  .colab-df-quickchart {\n",
              "    background-color: var(--bg-color);\n",
              "    border: none;\n",
              "    border-radius: 50%;\n",
              "    cursor: pointer;\n",
              "    display: none;\n",
              "    fill: var(--fill-color);\n",
              "    height: 32px;\n",
              "    padding: 0;\n",
              "    width: 32px;\n",
              "  }\n",
              "\n",
              "  .colab-df-quickchart:hover {\n",
              "    background-color: var(--hover-bg-color);\n",
              "    box-shadow: 0 1px 2px rgba(60, 64, 67, 0.3), 0 1px 3px 1px rgba(60, 64, 67, 0.15);\n",
              "    fill: var(--button-hover-fill-color);\n",
              "  }\n",
              "\n",
              "  .colab-df-quickchart-complete:disabled,\n",
              "  .colab-df-quickchart-complete:disabled:hover {\n",
              "    background-color: var(--disabled-bg-color);\n",
              "    fill: var(--disabled-fill-color);\n",
              "    box-shadow: none;\n",
              "  }\n",
              "\n",
              "  .colab-df-spinner {\n",
              "    border: 2px solid var(--fill-color);\n",
              "    border-color: transparent;\n",
              "    border-bottom-color: var(--fill-color);\n",
              "    animation:\n",
              "      spin 1s steps(1) infinite;\n",
              "  }\n",
              "\n",
              "  @keyframes spin {\n",
              "    0% {\n",
              "      border-color: transparent;\n",
              "      border-bottom-color: var(--fill-color);\n",
              "      border-left-color: var(--fill-color);\n",
              "    }\n",
              "    20% {\n",
              "      border-color: transparent;\n",
              "      border-left-color: var(--fill-color);\n",
              "      border-top-color: var(--fill-color);\n",
              "    }\n",
              "    30% {\n",
              "      border-color: transparent;\n",
              "      border-left-color: var(--fill-color);\n",
              "      border-top-color: var(--fill-color);\n",
              "      border-right-color: var(--fill-color);\n",
              "    }\n",
              "    40% {\n",
              "      border-color: transparent;\n",
              "      border-right-color: var(--fill-color);\n",
              "      border-top-color: var(--fill-color);\n",
              "    }\n",
              "    60% {\n",
              "      border-color: transparent;\n",
              "      border-right-color: var(--fill-color);\n",
              "    }\n",
              "    80% {\n",
              "      border-color: transparent;\n",
              "      border-right-color: var(--fill-color);\n",
              "      border-bottom-color: var(--fill-color);\n",
              "    }\n",
              "    90% {\n",
              "      border-color: transparent;\n",
              "      border-bottom-color: var(--fill-color);\n",
              "    }\n",
              "  }\n",
              "</style>\n",
              "\n",
              "  <script>\n",
              "    async function quickchart(key) {\n",
              "      const quickchartButtonEl =\n",
              "        document.querySelector('#' + key + ' button');\n",
              "      quickchartButtonEl.disabled = true;  // To prevent multiple clicks.\n",
              "      quickchartButtonEl.classList.add('colab-df-spinner');\n",
              "      try {\n",
              "        const charts = await google.colab.kernel.invokeFunction(\n",
              "            'suggestCharts', [key], {});\n",
              "      } catch (error) {\n",
              "        console.error('Error during call to suggestCharts:', error);\n",
              "      }\n",
              "      quickchartButtonEl.classList.remove('colab-df-spinner');\n",
              "      quickchartButtonEl.classList.add('colab-df-quickchart-complete');\n",
              "    }\n",
              "    (() => {\n",
              "      let quickchartButtonEl =\n",
              "        document.querySelector('#df-271a23e7-283d-4b91-9de4-910992f1e089 button');\n",
              "      quickchartButtonEl.style.display =\n",
              "        google.colab.kernel.accessAllowed ? 'block' : 'none';\n",
              "    })();\n",
              "  </script>\n",
              "</div>\n",
              "\n",
              "    </div>\n",
              "  </div>\n"
            ],
            "application/vnd.google.colaboratory.intrinsic+json": {
              "type": "dataframe",
              "variable_name": "X",
              "summary": "{\n  \"name\": \"X\",\n  \"rows\": 534,\n  \"fields\": [\n    {\n      \"column\": \"EDUCATION\",\n      \"properties\": {\n        \"dtype\": \"number\",\n        \"std\": 2,\n        \"min\": 2,\n        \"max\": 18,\n        \"num_unique_values\": 17,\n        \"samples\": [\n          8,\n          9,\n          16\n        ],\n        \"semantic_type\": \"\",\n        \"description\": \"\"\n      }\n    },\n    {\n      \"column\": \"SOUTH\",\n      \"properties\": {\n        \"dtype\": \"category\",\n        \"num_unique_values\": 2,\n        \"samples\": [\n          \"yes\",\n          \"no\"\n        ],\n        \"semantic_type\": \"\",\n        \"description\": \"\"\n      }\n    },\n    {\n      \"column\": \"SEX\",\n      \"properties\": {\n        \"dtype\": \"category\",\n        \"num_unique_values\": 2,\n        \"samples\": [\n          \"male\",\n          \"female\"\n        ],\n        \"semantic_type\": \"\",\n        \"description\": \"\"\n      }\n    },\n    {\n      \"column\": \"EXPERIENCE\",\n      \"properties\": {\n        \"dtype\": \"number\",\n        \"std\": 12,\n        \"min\": 0,\n        \"max\": 55,\n        \"num_unique_values\": 52,\n        \"samples\": [\n          8,\n          18\n        ],\n        \"semantic_type\": \"\",\n        \"description\": \"\"\n      }\n    },\n    {\n      \"column\": \"UNION\",\n      \"properties\": {\n        \"dtype\": \"category\",\n        \"num_unique_values\": 2,\n        \"samples\": [\n          \"member\",\n          \"not_member\"\n        ],\n        \"semantic_type\": \"\",\n        \"description\": \"\"\n      }\n    },\n    {\n      \"column\": \"AGE\",\n      \"properties\": {\n        \"dtype\": \"number\",\n        \"std\": 11,\n        \"min\": 18,\n        \"max\": 64,\n        \"num_unique_values\": 47,\n        \"samples\": [\n          29,\n          48\n        ],\n        \"semantic_type\": \"\",\n        \"description\": \"\"\n      }\n    },\n    {\n      \"column\": \"RACE\",\n      \"properties\": {\n        \"dtype\": \"category\",\n        \"num_unique_values\": 3,\n        \"samples\": [\n          \"Hispanic\",\n          \"White\"\n        ],\n        \"semantic_type\": \"\",\n        \"description\": \"\"\n      }\n    },\n    {\n      \"column\": \"OCCUPATION\",\n      \"properties\": {\n        \"dtype\": \"category\",\n        \"num_unique_values\": 6,\n        \"samples\": [\n          \"Other\",\n          \"Management\"\n        ],\n        \"semantic_type\": \"\",\n        \"description\": \"\"\n      }\n    },\n    {\n      \"column\": \"SECTOR\",\n      \"properties\": {\n        \"dtype\": \"category\",\n        \"num_unique_values\": 3,\n        \"samples\": [\n          \"Manufacturing\",\n          \"Other\"\n        ],\n        \"semantic_type\": \"\",\n        \"description\": \"\"\n      }\n    },\n    {\n      \"column\": \"MARR\",\n      \"properties\": {\n        \"dtype\": \"category\",\n        \"num_unique_values\": 2,\n        \"samples\": [\n          \"Unmarried\",\n          \"Married\"\n        ],\n        \"semantic_type\": \"\",\n        \"description\": \"\"\n      }\n    }\n  ]\n}"
            }
          },
          "metadata": {},
          "execution_count": 9
        }
      ],
      "source": [
        "X.head()"
      ]
    },
    {
      "cell_type": "markdown",
      "id": "9b608ac9",
      "metadata": {
        "id": "9b608ac9"
      },
      "source": [
        "Our target for prediction: the wage.\n",
        "Wages are described as floating-point number in dollars per hour."
      ]
    },
    {
      "cell_type": "code",
      "execution_count": 10,
      "id": "c4f993de",
      "metadata": {
        "id": "c4f993de",
        "outputId": "ca3791a7-f3ff-41ea-d0ee-dd5cc7cf7b7c",
        "colab": {
          "base_uri": "https://localhost:8080/",
          "height": 261
        }
      },
      "outputs": [
        {
          "output_type": "execute_result",
          "data": {
            "text/plain": [
              "0    5.10\n",
              "1    4.95\n",
              "2    6.67\n",
              "3    4.00\n",
              "4    7.50\n",
              "Name: WAGE, dtype: float64"
            ],
            "text/html": [
              "<div>\n",
              "<style scoped>\n",
              "    .dataframe tbody tr th:only-of-type {\n",
              "        vertical-align: middle;\n",
              "    }\n",
              "\n",
              "    .dataframe tbody tr th {\n",
              "        vertical-align: top;\n",
              "    }\n",
              "\n",
              "    .dataframe thead th {\n",
              "        text-align: right;\n",
              "    }\n",
              "</style>\n",
              "<table border=\"1\" class=\"dataframe\">\n",
              "  <thead>\n",
              "    <tr style=\"text-align: right;\">\n",
              "      <th></th>\n",
              "      <th>WAGE</th>\n",
              "    </tr>\n",
              "  </thead>\n",
              "  <tbody>\n",
              "    <tr>\n",
              "      <th>0</th>\n",
              "      <td>5.10</td>\n",
              "    </tr>\n",
              "    <tr>\n",
              "      <th>1</th>\n",
              "      <td>4.95</td>\n",
              "    </tr>\n",
              "    <tr>\n",
              "      <th>2</th>\n",
              "      <td>6.67</td>\n",
              "    </tr>\n",
              "    <tr>\n",
              "      <th>3</th>\n",
              "      <td>4.00</td>\n",
              "    </tr>\n",
              "    <tr>\n",
              "      <th>4</th>\n",
              "      <td>7.50</td>\n",
              "    </tr>\n",
              "  </tbody>\n",
              "</table>\n",
              "</div><br><label><b>dtype:</b> float64</label>"
            ]
          },
          "metadata": {},
          "execution_count": 10
        }
      ],
      "source": [
        "y = survey.target.values.ravel()\n",
        "survey.target.head()"
      ]
    },
    {
      "cell_type": "markdown",
      "id": "937139d8",
      "metadata": {
        "lines_to_next_cell": 0,
        "id": "937139d8"
      },
      "source": [
        "We split the sample into a train and a test dataset.\n",
        "Only the train dataset will be used in the following exploratory analysis.\n",
        "This is a way to emulate a real situation where predictions are performed on\n",
        "an unknown target, and we don't want our analysis and decisions to be biased\n",
        "by our knowledge of the test data.\n",
        "\n",
        "### 📝 TODO make the train test split"
      ]
    },
    {
      "cell_type": "code",
      "execution_count": 14,
      "id": "2b2f1a80",
      "metadata": {
        "lines_to_next_cell": 0,
        "id": "2b2f1a80"
      },
      "outputs": [],
      "source": [
        "from sklearn.model_selection import train_test_split\n",
        "X_train, X_test, y_train, y_test = train_test_split(X, y, test_size=0.35, random_state=42)"
      ]
    },
    {
      "cell_type": "markdown",
      "id": "c0a0cd8e",
      "metadata": {
        "id": "c0a0cd8e"
      },
      "source": [
        "First, let's get some insights by looking at the variable distributions and\n",
        "at the pairwise relationships between them. Only numerical\n",
        "variables will be used. In the following plot, each dot represents a sample.\n",
        "\n",
        ".. _marginal_dependencies:\n",
        "\n",
        "train_dataset = X_train.copy()\n",
        "train_dataset.insert(0, \"WAGE\", y_train)\n",
        "_ = sns.pairplot(train_dataset, kind=\"reg\", diag_kind=\"kde\")"
      ]
    },
    {
      "cell_type": "markdown",
      "id": "30b59f3a",
      "metadata": {
        "lines_to_next_cell": 0,
        "id": "30b59f3a"
      },
      "source": [
        "Looking closely at the WAGE distribution reveals that it has a\n",
        "long tail. For this reason, we should take its logarithm\n",
        "to turn it approximately into a normal distribution (linear models such\n",
        "as ridge or lasso work best for a normal distribution of error).\n",
        "\n",
        "The WAGE is increasing when EDUCATION is increasing.\n",
        "Note that the dependence between WAGE and EDUCATION\n",
        "represented here is a marginal dependence, i.e., it describes the behavior\n",
        "of a specific variable without keeping the others fixed.\n",
        "\n",
        "Also, the EXPERIENCE and AGE are strongly linearly correlated.\n",
        "\n",
        ".. _the-pipeline:\n",
        "\n",
        "The machine-learning pipeline\n",
        "-----------------------------\n",
        "\n",
        "To design our machine-learning pipeline, we first manually\n",
        "check the type of data that we are dealing with:"
      ]
    },
    {
      "cell_type": "code",
      "execution_count": null,
      "id": "07441a06",
      "metadata": {
        "id": "07441a06"
      },
      "outputs": [],
      "source": [
        "survey.data.info()"
      ]
    },
    {
      "cell_type": "markdown",
      "id": "d8c705dc",
      "metadata": {
        "lines_to_next_cell": 0,
        "id": "d8c705dc"
      },
      "source": [
        "As seen previously, the dataset contains columns with different data types\n",
        "and we need to apply a specific preprocessing for each data types.\n",
        "In particular categorical variables cannot be included in linear model if not\n",
        "coded as integers first. In addition, to avoid categorical features to be\n",
        "treated as ordered values, we need to one-hot-encode them.\n",
        "Our pre-processor will\n",
        "\n",
        "- one-hot encode (i.e., generate a column by category) the categorical\n",
        "  columns, only for non-binary categorical variables;\n",
        "- as a first approach (we will see after how the normalisation of numerical\n",
        "  values will affect our discussion), keep numerical values as they are.\n",
        "\n",
        "### 📝 TODO : create a preprocessor that handle the categorical columns with a OneHotEncoder and does nothing with the numerical ones"
      ]
    },
    {
      "cell_type": "code",
      "execution_count": null,
      "id": "88d62a9c",
      "metadata": {
        "lines_to_next_cell": 0,
        "id": "88d62a9c"
      },
      "outputs": [],
      "source": [
        "from sklearn.compose import make_column_transformer\n",
        "from sklearn.preprocessing import OneHotEncoder\n",
        "# CODE HERE"
      ]
    },
    {
      "cell_type": "markdown",
      "id": "5cb8bd6a",
      "metadata": {
        "lines_to_next_cell": 0,
        "id": "5cb8bd6a"
      },
      "source": [
        "To describe the dataset as a linear model we use a ridge regressor\n",
        "with a very small regularization and to model the logarithm of the WAGE.\n",
        "### 📝 TODO: make a pipeline with the preprocessor, and a ridge regressor encapusled in a TransformedTargetRegressor with a log10 transformation."
      ]
    },
    {
      "cell_type": "code",
      "execution_count": null,
      "id": "dfbeec06",
      "metadata": {
        "lines_to_next_cell": 0,
        "id": "dfbeec06"
      },
      "outputs": [],
      "source": [
        "from sklearn.compose import TransformedTargetRegressor\n",
        "from sklearn.linear_model import Ridge\n",
        "from sklearn.pipeline import make_pipeline\n",
        "# CODE HERE"
      ]
    },
    {
      "cell_type": "markdown",
      "id": "97d024b4",
      "metadata": {
        "lines_to_next_cell": 0,
        "id": "97d024b4"
      },
      "source": [
        "Processing the dataset\n",
        "----------------------\n",
        "\n",
        "First, we fit the model."
      ]
    },
    {
      "cell_type": "code",
      "execution_count": null,
      "id": "7de6aab5",
      "metadata": {
        "id": "7de6aab5"
      },
      "outputs": [],
      "source": [
        "# CODE HERE\n",
        "# ### 📝 TODO: fit the model"
      ]
    },
    {
      "cell_type": "markdown",
      "id": "44efd0aa",
      "metadata": {
        "lines_to_next_cell": 0,
        "id": "44efd0aa"
      },
      "source": [
        "Then we check the performance of the computed model plotting its predictions\n",
        "on the test set and computing,\n",
        "for example, the median absolute error of the model."
      ]
    },
    {
      "cell_type": "code",
      "execution_count": null,
      "id": "d851de2a",
      "metadata": {
        "id": "d851de2a"
      },
      "outputs": [],
      "source": [
        "from sklearn.metrics import PredictionErrorDisplay, median_absolute_error\n",
        "\n",
        "mae_train = median_absolute_error(y_train, model.predict(X_train))\n",
        "y_pred = model.predict(X_test)\n",
        "mae_test = median_absolute_error(y_test, y_pred)\n",
        "scores = {\n",
        "    \"MedAE on training set\": f\"{mae_train:.2f} $/hour\",\n",
        "    \"MedAE on testing set\": f\"{mae_test:.2f} $/hour\",\n",
        "}"
      ]
    },
    {
      "cell_type": "code",
      "execution_count": null,
      "id": "d4627438",
      "metadata": {
        "id": "d4627438"
      },
      "outputs": [],
      "source": [
        "_, ax = plt.subplots(figsize=(5, 5))\n",
        "display = PredictionErrorDisplay.from_predictions(\n",
        "    y_test, y_pred, kind=\"actual_vs_predicted\", ax=ax, scatter_kwargs={\"alpha\": 0.5}\n",
        ")\n",
        "ax.set_title(\"Ridge model, small regularization\")\n",
        "for name, score in scores.items():\n",
        "    ax.plot([], [], \" \", label=f\"{name}: {score}\")\n",
        "ax.legend(loc=\"upper left\")\n",
        "plt.tight_layout()"
      ]
    },
    {
      "cell_type": "markdown",
      "id": "c882ef6d",
      "metadata": {
        "lines_to_next_cell": 0,
        "id": "c882ef6d"
      },
      "source": [
        "The model learnt is far from being a good model making accurate predictions:\n",
        "this is obvious when looking at the plot above, where good predictions\n",
        "should lie on the black dashed line.\n",
        "\n",
        "In the following section, we will interpret the coefficients of the model.\n",
        "While we do so, we should keep in mind that any conclusion we draw is\n",
        "about the model that we build, rather than about the true (real-world)\n",
        "generative process of the data.\n",
        "\n",
        "Interpreting coefficients: scale matters\n",
        "----------------------------------------\n",
        "\n",
        "First of all, we can take a look to the values of the coefficients of the\n",
        "regressor we have fitted.\n",
        "### 📝 TODO: use the `.get_feature_names_out()` to inspect the coefs"
      ]
    },
    {
      "cell_type": "code",
      "execution_count": null,
      "id": "dd392367",
      "metadata": {
        "lines_to_next_cell": 0,
        "id": "dd392367"
      },
      "outputs": [],
      "source": [
        "# CODE HERE\n",
        "print(coefs)"
      ]
    },
    {
      "cell_type": "markdown",
      "id": "914840d1",
      "metadata": {
        "lines_to_next_cell": 0,
        "id": "914840d1"
      },
      "source": [
        "The AGE coefficient is expressed in \"dollars/hour per living years\" while the\n",
        "EDUCATION one is expressed in \"dollars/hour per years of education\". This\n",
        "representation of the coefficients has the benefit of making clear the\n",
        "practical predictions of the model: an increase of :math:`1` year in AGE\n",
        "means a decrease of :math:`0.030867` dollars/hour, while an increase of\n",
        ":math:`1` year in EDUCATION means an increase of :math:`0.054699`\n",
        "dollars/hour. On the other hand, categorical variables (as UNION or SEX) are\n",
        "adimensional numbers taking either the value 0 or 1. Their coefficients\n",
        "are expressed in dollars/hour. Then, we cannot compare the magnitude of\n",
        "different coefficients since the features have different natural scales, and\n",
        "hence value ranges, because of their different unit of measure. This is more\n",
        "visible if we plot the coefficients."
      ]
    },
    {
      "cell_type": "code",
      "execution_count": null,
      "id": "92387d4a",
      "metadata": {
        "id": "92387d4a"
      },
      "outputs": [],
      "source": [
        "coefs.plot.barh(figsize=(9, 7))\n",
        "plt.title(\"Ridge model, small regularization\")\n",
        "plt.axvline(x=0, color=\".5\")\n",
        "plt.xlabel(\"Raw coefficient values\")\n",
        "plt.subplots_adjust(left=0.3)"
      ]
    },
    {
      "cell_type": "markdown",
      "id": "06539c2a",
      "metadata": {
        "id": "06539c2a"
      },
      "source": [
        "Indeed, from the plot above the most important factor in determining WAGE\n",
        "appears to be the\n",
        "variable UNION, even if our intuition might tell us that variables\n",
        "like EXPERIENCE should have more impact.\n",
        "\n",
        "Looking at the coefficient plot to gauge feature importance can be\n",
        "misleading as some of them vary on a small scale, while others, like AGE,\n",
        "varies a lot more, several decades.\n",
        "\n",
        "This is visible if we compare the standard deviations of different\n",
        "features.\n",
        "%%%\n",
        "X_train_preprocessed = pd.DataFrame(\n",
        "    model[:-1].transform(X_train), columns=feature_names\n",
        ")\n",
        "## 📝 TODO: plot the standard deviations of the features\n",
        "X_train_preprocessed.std(axis=0).plot.barh(figsize=(9, 7))\n",
        "plt.title(\"Feature ranges\")\n",
        "plt.xlabel(\"Std. dev. of feature values\")\n",
        "plt.subplots_adjust(left=0.3)"
      ]
    },
    {
      "cell_type": "markdown",
      "id": "b6125ebc",
      "metadata": {
        "lines_to_next_cell": 0,
        "id": "b6125ebc"
      },
      "source": [
        "Multiplying the coefficients by the standard deviation of the related\n",
        "feature would reduce all the coefficients to the same unit of measure.\n",
        "As we will see :ref:`after<scaling_num>` this is equivalent to normalize\n",
        "numerical variables to their standard deviation,\n",
        "as :math:`y = \\sum{coef_i \\times X_i} =\n",
        "\\sum{(coef_i \\times std_i) \\times (X_i / std_i)}`.\n",
        "\n",
        "In that way, we emphasize that the\n",
        "greater the variance of a feature, the larger the weight of the corresponding\n",
        "coefficient on the output, all else being equal."
      ]
    },
    {
      "cell_type": "code",
      "execution_count": null,
      "id": "6f8e45cc",
      "metadata": {
        "id": "6f8e45cc"
      },
      "outputs": [],
      "source": [
        "coefs = pd.DataFrame(\n",
        "    model[-1].regressor_.coef_ * X_train_preprocessed.std(axis=0),\n",
        "    columns=[\"Coefficient importance\"],\n",
        "    index=feature_names,\n",
        ")\n",
        "coefs.plot(kind=\"barh\", figsize=(9, 7))\n",
        "plt.xlabel(\"Coefficient values corrected by the feature's std. dev.\")\n",
        "plt.title(\"Ridge model, small regularization\")\n",
        "plt.axvline(x=0, color=\".5\")\n",
        "plt.subplots_adjust(left=0.3)"
      ]
    },
    {
      "cell_type": "markdown",
      "id": "67d84e5c",
      "metadata": {
        "lines_to_next_cell": 0,
        "id": "67d84e5c"
      },
      "source": [
        "Now that the coefficients have been scaled, we can safely compare them.\n",
        "\n",
        ".. warning::\n",
        "\n",
        "  Why does the plot above suggest that an increase in age leads to a\n",
        "  decrease in wage? Why the :ref:`initial pairplot\n",
        "  <marginal_dependencies>` is telling the opposite?\n",
        "\n",
        "The plot above tells us about dependencies between a specific feature and\n",
        "the target when all other features remain constant, i.e., **conditional\n",
        "dependencies**. An increase of the AGE will induce a decrease\n",
        "of the WAGE when all other features remain constant. On the contrary, an\n",
        "increase of the EXPERIENCE will induce an increase of the WAGE when all\n",
        "other features remain constant.\n",
        "Also, AGE, EXPERIENCE and EDUCATION are the three variables that most\n",
        "influence the model.\n",
        "\n",
        "Interpreting coefficients: being cautious about causality\n",
        "---------------------------------------------------------\n",
        "\n",
        "Linear models are a great tool for measuring statistical association, but we\n",
        "should be cautious when making statements about causality, after all\n",
        "correlation doesn't always imply causation. This is particularly difficult in\n",
        "the social sciences because the variables we observe only function as proxies\n",
        "for the underlying causal process.\n",
        "\n",
        "In our particular case we can think of the EDUCATION of an individual as a\n",
        "proxy for their professional aptitude, the real variable we're interested in\n",
        "but can't observe. We'd certainly like to think that staying in school for\n",
        "longer would increase technical competency, but it's also quite possible that\n",
        "causality goes the other way too. That is, those who are technically\n",
        "competent tend to stay in school for longer.\n",
        "\n",
        "An employer is unlikely to care which case it is (or if it's a mix of both),\n",
        "as long as they remain convinced that a person with more EDUCATION is better\n",
        "suited for the job, they will be happy to pay out a higher WAGE.\n",
        "\n",
        "This confounding of effects becomes problematic when thinking about some\n",
        "form of intervention e.g. government subsidies of university degrees or\n",
        "promotional material encouraging individuals to take up higher education.\n",
        "The usefulness of these measures could end up being overstated, especially if\n",
        "the degree of confounding is strong. Our model predicts a :math:`0.054699`\n",
        "increase in hourly wage for each year of education. The actual causal effect\n",
        "might be lower because of this confounding.\n",
        "\n",
        "Checking the variability of the coefficients\n",
        "--------------------------------------------\n",
        "\n",
        "We can check the coefficient variability through cross-validation:\n",
        "it is a form of data perturbation (related to\n",
        "`resampling <https://en.wikipedia.org/wiki/Resampling_(statistics)>`_).\n",
        "\n",
        "If coefficients vary significantly when changing the input dataset\n",
        "their robustness is not guaranteed, and they should probably be interpreted\n",
        "with caution."
      ]
    },
    {
      "cell_type": "code",
      "execution_count": null,
      "id": "ddd6e885",
      "metadata": {
        "lines_to_next_cell": 0,
        "id": "ddd6e885"
      },
      "outputs": [],
      "source": [
        "from sklearn.model_selection import RepeatedKFold, cross_validate\n",
        "\n",
        "cv = RepeatedKFold(n_splits=5, n_repeats=5, random_state=0)"
      ]
    },
    {
      "cell_type": "markdown",
      "id": "9c167adb",
      "metadata": {
        "id": "9c167adb"
      },
      "source": [
        "### 📝 TODO: use the cross_validate function to evaluate the coefficients on repeated splits. Use the splitting strategy `cv` defined above."
      ]
    },
    {
      "cell_type": "code",
      "execution_count": null,
      "id": "bce6bde2",
      "metadata": {
        "lines_to_next_cell": 0,
        "id": "bce6bde2"
      },
      "outputs": [],
      "source": [
        "# Assembling the coefficients\n",
        "coefs = pd.DataFrame(\n",
        "    [\n",
        "        est[-1].regressor_.coef_ * est[:-1].transform(X.iloc[train_idx]).std(axis=0)\n",
        "        for est, (train_idx, _) in zip(cv_model[\"estimator\"], cv.split(X, y))\n",
        "    ],\n",
        "    columns=feature_names,\n",
        ")"
      ]
    },
    {
      "cell_type": "code",
      "execution_count": null,
      "id": "8a0850bd",
      "metadata": {
        "id": "8a0850bd"
      },
      "outputs": [],
      "source": [
        "plt.figure(figsize=(9, 7))\n",
        "sns.stripplot(data=coefs, orient=\"h\", palette=\"dark:k\", alpha=0.5)\n",
        "sns.boxplot(data=coefs, orient=\"h\", color=\"cyan\", saturation=0.5, whis=10)\n",
        "plt.axvline(x=0, color=\".5\")\n",
        "plt.xlabel(\"Coefficient importance\")\n",
        "plt.title(\"Coefficient importance and its variability\")\n",
        "plt.suptitle(\"Ridge model, small regularization\")\n",
        "plt.subplots_adjust(left=0.3)"
      ]
    },
    {
      "cell_type": "markdown",
      "id": "5e7850a2",
      "metadata": {
        "lines_to_next_cell": 0,
        "id": "5e7850a2"
      },
      "source": [
        "The problem of correlated variables\n",
        "-----------------------------------\n",
        "\n",
        "The AGE and EXPERIENCE coefficients are affected by strong variability which\n",
        "might be due to the collinearity between the 2 features: as AGE and\n",
        "EXPERIENCE vary together in the data, their effect is difficult to tease\n",
        "apart.\n",
        "\n",
        "To verify this interpretation we plot the variability of the AGE and\n",
        "EXPERIENCE coefficient.\n",
        "### 📝 TODO: use the plt.scatter for this.\n",
        ".. _covariation:"
      ]
    },
    {
      "cell_type": "code",
      "execution_count": null,
      "id": "13a965d2",
      "metadata": {
        "lines_to_next_cell": 0,
        "id": "13a965d2"
      },
      "outputs": [],
      "source": [
        "# CODE HERE"
      ]
    },
    {
      "cell_type": "markdown",
      "id": "b2c317b7",
      "metadata": {
        "lines_to_next_cell": 0,
        "id": "b2c317b7"
      },
      "source": [
        "Two regions are populated: when the EXPERIENCE coefficient is\n",
        "positive the AGE one is negative and vice-versa.\n",
        "\n",
        "To go further we remove one of the 2 features and check what is the impact\n",
        "on the model stability.\n",
        "### 📝 TODO: drop the AGE column and run the same repeated split analysis on the dataset without this column."
      ]
    },
    {
      "cell_type": "code",
      "execution_count": null,
      "id": "8ba52eb8",
      "metadata": {
        "id": "8ba52eb8"
      },
      "outputs": [],
      "source": [
        "# CODE HERE\n",
        "cv_model =\n",
        "\n",
        "coefs ="
      ]
    },
    {
      "cell_type": "code",
      "execution_count": null,
      "id": "a5391fbc",
      "metadata": {
        "id": "a5391fbc"
      },
      "outputs": [],
      "source": [
        "plt.figure(figsize=(9, 7))\n",
        "sns.stripplot(data=coefs, orient=\"h\", palette=\"dark:k\", alpha=0.5)\n",
        "sns.boxplot(data=coefs, orient=\"h\", color=\"cyan\", saturation=0.5)\n",
        "plt.axvline(x=0, color=\".5\")\n",
        "plt.title(\"Coefficient importance and its variability\")\n",
        "plt.xlabel(\"Coefficient importance\")\n",
        "plt.suptitle(\"Ridge model, small regularization, AGE dropped\")\n",
        "plt.subplots_adjust(left=0.3)"
      ]
    },
    {
      "cell_type": "markdown",
      "id": "cc46cc82",
      "metadata": {
        "lines_to_next_cell": 0,
        "id": "cc46cc82"
      },
      "source": [
        "The estimation of the EXPERIENCE coefficient now shows a much reduced\n",
        "variability. EXPERIENCE remains important for all models trained during\n",
        "cross-validation.\n",
        "\n",
        ".. _scaling_num:\n",
        "\n",
        "Preprocessing numerical variables\n",
        "---------------------------------\n",
        "\n",
        "As said above (see \":ref:`the-pipeline`\"), we could also choose to scale\n",
        "numerical values before training the model.\n",
        "This can be useful when we apply a similar amount of regularization to all of them\n",
        "in the ridge.\n",
        "The preprocessor is redefined in order to subtract the mean and scale\n",
        "variables to unit variance.\n",
        "from sklearn.preprocessing import StandardScaler\n",
        "### 📝 TODO: redifine the preprocessor to scale the numerical columns"
      ]
    },
    {
      "cell_type": "code",
      "execution_count": null,
      "id": "250412bb",
      "metadata": {
        "lines_to_next_cell": 0,
        "id": "250412bb"
      },
      "outputs": [],
      "source": [
        "# CODE HERE\n",
        "preprocessor ="
      ]
    },
    {
      "cell_type": "code",
      "execution_count": null,
      "id": "66679e78",
      "metadata": {
        "id": "66679e78"
      },
      "outputs": [],
      "source": [
        "# The model will stay unchanged.\n",
        "\n",
        "model = make_pipeline(\n",
        "    preprocessor,\n",
        "    TransformedTargetRegressor(\n",
        "        regressor=Ridge(alpha=1e-10), func=np.log10, inverse_func=sp.special.exp10\n",
        "    ),\n",
        ")\n",
        "model.fit(X_train, y_train)"
      ]
    },
    {
      "cell_type": "markdown",
      "id": "ad321f91",
      "metadata": {
        "lines_to_next_cell": 0,
        "id": "ad321f91"
      },
      "source": [
        "Again, we check the performance of the computed\n",
        "model using, for example, the median absolute error of the model and the R\n",
        "squared coefficient."
      ]
    },
    {
      "cell_type": "code",
      "execution_count": null,
      "id": "a4e90d7f",
      "metadata": {
        "id": "a4e90d7f"
      },
      "outputs": [],
      "source": [
        "mae_train = median_absolute_error(y_train, model.predict(X_train))\n",
        "y_pred = model.predict(X_test)\n",
        "mae_test = median_absolute_error(y_test, y_pred)\n",
        "scores = {\n",
        "    \"MedAE on training set\": f\"{mae_train:.2f} $/hour\",\n",
        "    \"MedAE on testing set\": f\"{mae_test:.2f} $/hour\",\n",
        "}\n",
        "\n",
        "_, ax = plt.subplots(figsize=(5, 5))\n",
        "display = PredictionErrorDisplay.from_predictions(\n",
        "    y_test, y_pred, kind=\"actual_vs_predicted\", ax=ax, scatter_kwargs={\"alpha\": 0.5}\n",
        ")\n",
        "ax.set_title(\"Ridge model, small regularization\")\n",
        "for name, score in scores.items():\n",
        "    ax.plot([], [], \" \", label=f\"{name}: {score}\")\n",
        "ax.legend(loc=\"upper left\")\n",
        "plt.tight_layout()"
      ]
    },
    {
      "cell_type": "markdown",
      "id": "b3c2cedd",
      "metadata": {
        "lines_to_next_cell": 0,
        "id": "b3c2cedd"
      },
      "source": [
        "For the coefficient analysis, scaling is not needed this time because it\n",
        "was performed during the preprocessing step.\n",
        "### 📝 TODO: plot the new model coefficients"
      ]
    },
    {
      "cell_type": "code",
      "execution_count": null,
      "id": "1efa915d",
      "metadata": {
        "lines_to_next_cell": 0,
        "id": "1efa915d"
      },
      "outputs": [],
      "source": [
        "coefs ="
      ]
    },
    {
      "cell_type": "markdown",
      "id": "12e746da",
      "metadata": {
        "lines_to_next_cell": 0,
        "id": "12e746da"
      },
      "source": [
        "We now inspect the coefficients across several cross-validation folds. As in\n",
        "the above example, we do not need to scale the coefficients by the std. dev.\n",
        "of the feature values since this scaling was already\n",
        "done in the preprocessing step of the pipeline."
      ]
    },
    {
      "cell_type": "code",
      "execution_count": null,
      "id": "ff730b0b",
      "metadata": {
        "id": "ff730b0b"
      },
      "outputs": [],
      "source": [
        "cv_model = cross_validate(\n",
        "    model,\n",
        "    X,\n",
        "    y,\n",
        "    cv=cv,\n",
        "    return_estimator=True,\n",
        "    n_jobs=2,\n",
        ")\n",
        "coefs = pd.DataFrame(\n",
        "    [est[-1].regressor_.coef_ for est in cv_model[\"estimator\"]], columns=feature_names\n",
        ")"
      ]
    },
    {
      "cell_type": "code",
      "execution_count": null,
      "id": "cc7cb811",
      "metadata": {
        "id": "cc7cb811"
      },
      "outputs": [],
      "source": [
        "plt.figure(figsize=(9, 7))\n",
        "sns.stripplot(data=coefs, orient=\"h\", palette=\"dark:k\", alpha=0.5)\n",
        "sns.boxplot(data=coefs, orient=\"h\", color=\"cyan\", saturation=0.5, whis=10)\n",
        "plt.axvline(x=0, color=\".5\")\n",
        "plt.title(\"Coefficient variability\")\n",
        "plt.subplots_adjust(left=0.3)"
      ]
    },
    {
      "cell_type": "markdown",
      "id": "1cd82de8",
      "metadata": {
        "lines_to_next_cell": 0,
        "id": "1cd82de8"
      },
      "source": [
        "The result is quite similar to the non-normalized case.\n",
        "\n",
        "Linear models with regularization\n",
        "---------------------------------\n",
        "\n",
        "In machine-learning practice, ridge regression is more often used with\n",
        "non-negligible regularization.\n",
        "\n",
        "Above, we limited this regularization to a very little amount. Regularization\n",
        "improves the conditioning of the problem and reduces the variance of the\n",
        "estimates. :class:`~sklearn.linear_model.RidgeCV` applies cross validation\n",
        "in order to determine which value of the regularization parameter (`alpha`)\n",
        "is best suited for prediction."
      ]
    },
    {
      "cell_type": "code",
      "execution_count": null,
      "id": "c719d3db",
      "metadata": {
        "id": "c719d3db"
      },
      "outputs": [],
      "source": [
        "from sklearn.linear_model import RidgeCV\n",
        "\n",
        "alphas = np.logspace(-10, 10, 21)  # alpha values to be chosen from by cross-validation\n",
        "model = make_pipeline(\n",
        "    preprocessor,\n",
        "    TransformedTargetRegressor(\n",
        "        regressor=RidgeCV(alphas=alphas),\n",
        "        func=np.log10,\n",
        "        inverse_func=sp.special.exp10,\n",
        "    ),\n",
        ")\n",
        "model.fit(X_train, y_train)"
      ]
    },
    {
      "cell_type": "code",
      "execution_count": null,
      "id": "13bd04b7",
      "metadata": {
        "id": "13bd04b7"
      },
      "outputs": [],
      "source": [
        "# First we check which value of :math:`\\alpha` has been selected.\n",
        "\n",
        "model[-1].regressor_.alpha_"
      ]
    },
    {
      "cell_type": "markdown",
      "id": "ab536939",
      "metadata": {
        "lines_to_next_cell": 0,
        "id": "ab536939"
      },
      "source": [
        "Then we check the quality of the predictions.\n",
        "### 📝 TODO: check the performances of the new regularized model."
      ]
    },
    {
      "cell_type": "code",
      "execution_count": null,
      "id": "340e24d1",
      "metadata": {
        "id": "340e24d1"
      },
      "outputs": [],
      "source": [
        "mae_train =\n",
        "mae_test =\n",
        "scores = {\n",
        "    \"MedAE on training set\": f\"{mae_train:.2f} $/hour\",\n",
        "    \"MedAE on testing set\": f\"{mae_test:.2f} $/hour\",\n",
        "}\n",
        "\n",
        "_, ax = plt.subplots(figsize=(5, 5))\n",
        "display = PredictionErrorDisplay.from_predictions(\n",
        "    y_test, y_pred, kind=\"actual_vs_predicted\", ax=ax, scatter_kwargs={\"alpha\": 0.5}\n",
        ")\n",
        "ax.set_title(\"Ridge model, optimum regularization\")\n",
        "for name, score in scores.items():\n",
        "    ax.plot([], [], \" \", label=f\"{name}: {score}\")\n",
        "ax.legend(loc=\"upper left\")\n",
        "plt.tight_layout()"
      ]
    },
    {
      "cell_type": "markdown",
      "id": "1a830906",
      "metadata": {
        "lines_to_next_cell": 0,
        "id": "1a830906"
      },
      "source": [
        "The ability to reproduce the data of the regularized model is similar to\n",
        "the one of the non-regularized model.\n",
        "### 📝 TODO: plot the new regularized model coefficients"
      ]
    },
    {
      "cell_type": "code",
      "execution_count": null,
      "id": "eab759d8",
      "metadata": {
        "lines_to_next_cell": 0,
        "id": "eab759d8"
      },
      "outputs": [],
      "source": [
        "# CODE HERE\n",
        "coefs ="
      ]
    },
    {
      "cell_type": "markdown",
      "id": "0fea12f6",
      "metadata": {
        "id": "0fea12f6"
      },
      "source": [
        "The coefficients are significantly different.\n",
        "AGE and EXPERIENCE coefficients are both positive but they now have less\n",
        "influence on the prediction.\n",
        "\n",
        "The regularization reduces the influence of correlated\n",
        "variables on the model because the weight is shared between the two\n",
        "predictive variables, so neither alone would have strong weights.\n",
        "\n",
        "On the other hand, the weights obtained with regularization are more\n",
        "stable (see the :ref:`ridge_regression` User Guide section). This\n",
        "increased stability is visible from the plot, obtained from data\n",
        "perturbations, in a cross-validation. This plot can be compared with\n",
        "the :ref:`previous one<covariation>`.\n",
        "\n",
        "cv_model = cross_validate(\n",
        "    model,\n",
        "    X,\n",
        "    y,\n",
        "    cv=cv,\n",
        "    return_estimator=True,\n",
        "    n_jobs=2,\n",
        ")\n",
        "coefs = pd.DataFrame(\n",
        "    [est[-1].regressor_.coef_ for est in cv_model[\"estimator\"]], columns=feature_names\n",
        ")"
      ]
    },
    {
      "cell_type": "code",
      "execution_count": null,
      "id": "7fda7d80",
      "metadata": {
        "id": "7fda7d80"
      },
      "outputs": [],
      "source": [
        "plt.ylabel(\"Age coefficient\")\n",
        "plt.xlabel(\"Experience coefficient\")\n",
        "plt.grid(True)\n",
        "plt.xlim(-0.4, 0.5)\n",
        "plt.ylim(-0.4, 0.5)\n",
        "plt.scatter(coefs[\"AGE\"], coefs[\"EXPERIENCE\"])\n",
        "_ = plt.title(\"Co-variations of coefficients for AGE and EXPERIENCE across folds\")"
      ]
    },
    {
      "cell_type": "markdown",
      "id": "bb2b128a",
      "metadata": {
        "lines_to_next_cell": 0,
        "id": "bb2b128a"
      },
      "source": [
        "Linear models with sparse coefficients\n",
        "--------------------------------------\n",
        "\n",
        "Another possibility to take into account correlated variables in the dataset,\n",
        "is to estimate sparse coefficients. In some way we already did it manually\n",
        "when we dropped the AGE column in a previous ridge estimation.\n",
        "\n",
        "Lasso models (see the :ref:`lasso` User Guide section) estimates sparse\n",
        "coefficients. :class:`~sklearn.linear_model.LassoCV` applies cross\n",
        "validation in order to determine which value of the regularization parameter\n",
        "(`alpha`) is best suited for the model estimation.\n",
        "### 📝 TODO: do the same analysis with LassoCV (L1 regularization)"
      ]
    },
    {
      "cell_type": "code",
      "execution_count": null,
      "id": "0f6ba6ec",
      "metadata": {
        "lines_to_next_cell": 0,
        "id": "0f6ba6ec"
      },
      "outputs": [],
      "source": [
        "from sklearn.linear_model import LassoCV\n",
        "\n",
        "alphas = np.logspace(-10, 10, 21)  # alpha values to be chosen from by cross-validation\n",
        "model ="
      ]
    },
    {
      "cell_type": "code",
      "execution_count": null,
      "id": "86ef3670",
      "metadata": {
        "id": "86ef3670"
      },
      "outputs": [],
      "source": [
        "# First we verify which value of :math:`\\alpha` has been selected.\n",
        "\n",
        "model[-1].regressor_.alpha_"
      ]
    },
    {
      "cell_type": "markdown",
      "id": "48bbbf4b",
      "metadata": {
        "lines_to_next_cell": 0,
        "id": "48bbbf4b"
      },
      "source": [
        "Then we check the quality of the predictions."
      ]
    },
    {
      "cell_type": "code",
      "execution_count": null,
      "id": "9036190c",
      "metadata": {
        "id": "9036190c"
      },
      "outputs": [],
      "source": [
        "mae_train = median_absolute_error(y_train, model.predict(X_train))\n",
        "y_pred = model.predict(X_test)\n",
        "mae_test = median_absolute_error(y_test, y_pred)\n",
        "scores = {\n",
        "    \"MedAE on training set\": f\"{mae_train:.2f} $/hour\",\n",
        "    \"MedAE on testing set\": f\"{mae_test:.2f} $/hour\",\n",
        "}\n",
        "\n",
        "_, ax = plt.subplots(figsize=(6, 6))\n",
        "display = PredictionErrorDisplay.from_predictions(\n",
        "    y_test, y_pred, kind=\"actual_vs_predicted\", ax=ax, scatter_kwargs={\"alpha\": 0.5}\n",
        ")\n",
        "ax.set_title(\"Lasso model, optimum regularization\")\n",
        "for name, score in scores.items():\n",
        "    ax.plot([], [], \" \", label=f\"{name}: {score}\")\n",
        "ax.legend(loc=\"upper left\")\n",
        "plt.tight_layout()"
      ]
    },
    {
      "cell_type": "markdown",
      "id": "cb222f36",
      "metadata": {
        "lines_to_next_cell": 0,
        "id": "cb222f36"
      },
      "source": [
        "For our dataset, again the model is not very predictive."
      ]
    },
    {
      "cell_type": "code",
      "execution_count": null,
      "id": "43755eef",
      "metadata": {
        "id": "43755eef"
      },
      "outputs": [],
      "source": [
        "coefs = pd.DataFrame(\n",
        "    model[-1].regressor_.coef_,\n",
        "    columns=[\"Coefficients importance\"],\n",
        "    index=feature_names,\n",
        ")\n",
        "coefs.plot(kind=\"barh\", figsize=(9, 7))\n",
        "plt.title(\"Lasso model, optimum regularization, normalized variables\")\n",
        "plt.axvline(x=0, color=\".5\")\n",
        "plt.subplots_adjust(left=0.3)"
      ]
    },
    {
      "cell_type": "markdown",
      "id": "6b133611",
      "metadata": {
        "lines_to_next_cell": 0,
        "id": "6b133611"
      },
      "source": [
        "A Lasso model identifies the correlation between\n",
        "AGE and EXPERIENCE and suppresses one of them for the sake of the prediction.\n",
        "\n",
        "It is important to keep in mind that the coefficients that have been\n",
        "dropped may still be related to the outcome by themselves: the model\n",
        "chose to suppress them because they bring little or no additional\n",
        "information on top of the other features. Additionally, this selection\n",
        "is unstable for correlated features, and should be interpreted with\n",
        "caution.\n",
        "\n",
        "Indeed, we can check the variability of the coefficients across folds."
      ]
    },
    {
      "cell_type": "code",
      "execution_count": null,
      "id": "c4c5fe30",
      "metadata": {
        "id": "c4c5fe30"
      },
      "outputs": [],
      "source": [
        "cv_model = cross_validate(\n",
        "    model,\n",
        "    X,\n",
        "    y,\n",
        "    cv=cv,\n",
        "    return_estimator=True,\n",
        "    n_jobs=2,\n",
        ")\n",
        "coefs = pd.DataFrame(\n",
        "    [est[-1].regressor_.coef_ for est in cv_model[\"estimator\"]], columns=feature_names\n",
        ")"
      ]
    },
    {
      "cell_type": "code",
      "execution_count": null,
      "id": "a7f85d7f",
      "metadata": {
        "id": "a7f85d7f"
      },
      "outputs": [],
      "source": [
        "plt.figure(figsize=(9, 7))\n",
        "sns.stripplot(data=coefs, orient=\"h\", palette=\"dark:k\", alpha=0.5)\n",
        "sns.boxplot(data=coefs, orient=\"h\", color=\"cyan\", saturation=0.5, whis=100)\n",
        "plt.axvline(x=0, color=\".5\")\n",
        "plt.title(\"Coefficient variability\")\n",
        "plt.subplots_adjust(left=0.3)"
      ]
    },
    {
      "cell_type": "markdown",
      "id": "fccb6563",
      "metadata": {
        "id": "fccb6563"
      },
      "source": [
        "We observe that the AGE and EXPERIENCE coefficients are varying a lot\n",
        "depending of the fold.\n",
        "\n",
        "Wrong causal interpretation\n",
        "---------------------------\n",
        "\n",
        "Policy makers might want to know the effect of education on wage to assess\n",
        "whether or not a certain policy designed to entice people to pursue more\n",
        "education would make economic sense. While Machine Learning models are great\n",
        "for measuring statistical associations, they are generally unable to infer\n",
        "causal effects.\n",
        "\n",
        "It might be tempting to look at the coefficient of education on wage from our\n",
        "last model (or any model for that matter) and conclude that it captures the\n",
        "true effect of a change in the standardized education variable on wages.\n",
        "\n",
        "Unfortunately there are likely unobserved confounding variables that either\n",
        "inflate or deflate that coefficient. A confounding variable is a variable that\n",
        "causes both EDUCATION and WAGE. One example of such variable is ability.\n",
        "Presumably, more able people are more likely to pursue education while at the\n",
        "same time being more likely to earn a higher hourly wage at any level of\n",
        "education. In this case, ability induces a positive `Omitted Variable Bias\n",
        "<https://en.wikipedia.org/wiki/Omitted-variable_bias>`_ (OVB) on the EDUCATION\n",
        "coefficient, thereby exaggerating the effect of education on wages.\n",
        "\n",
        "See the :ref:`sphx_glr_auto_examples_inspection_plot_causal_interpretation.py`\n",
        "for a simulated case of ability OVB.\n",
        "\n",
        "Lessons learned\n",
        "---------------\n",
        "\n",
        "* Coefficients must be scaled to the same unit of measure to retrieve\n",
        "  feature importance. Scaling them with the standard-deviation of the\n",
        "  feature is a useful proxy.\n",
        "* Interpreting causality is difficult when there are confounding effects. If\n",
        "  the relationship between two variables is also affected by something\n",
        "  unobserved, we should be careful when making conclusions about causality.\n",
        "* Coefficients in multivariate linear models represent the dependency\n",
        "  between a given feature and the target, **conditional** on the other\n",
        "  features.\n",
        "* Correlated features induce instabilities in the coefficients of linear\n",
        "  models and their effects cannot be well teased apart.\n",
        "* Different linear models respond differently to feature correlation and\n",
        "  coefficients could significantly vary from one another.\n",
        "* Inspecting coefficients across the folds of a cross-validation loop\n",
        "  gives an idea of their stability.\n",
        "* Coefficients are unlikely to have any causal meaning. They tend\n",
        "  to be biased by unobserved confounders.\n",
        "* Inspection tools may not necessarily provide insights on the true\n",
        "  data generating process."
      ]
    }
  ],
  "metadata": {
    "jupytext": {
      "cell_metadata_filter": "-all",
      "main_language": "python",
      "notebook_metadata_filter": "-all"
    },
    "colab": {
      "provenance": []
    },
    "language_info": {
      "name": "python"
    },
    "kernelspec": {
      "name": "python3",
      "display_name": "Python 3"
    }
  },
  "nbformat": 4,
  "nbformat_minor": 5
}